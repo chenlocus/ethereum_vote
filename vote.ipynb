{
 "cells": [
  {
   "cell_type": "code",
   "execution_count": 4,
   "metadata": {},
   "outputs": [
    {
     "name": "stderr",
     "output_type": "stream",
     "text": [
      "c:\\users\\administrator\\appdata\\local\\programs\\python\\python37-32\\lib\\site-packages\\ipykernel_launcher.py:23: DeprecationWarning: enable_unaudited_features is deprecated in favor of doing nothing at all\n"
     ]
    },
    {
     "name": "stdout",
     "output_type": "stream",
     "text": [
      "AttributeDict({'blockHash': HexBytes('0xff294358dbe5bd268ba690163a542a8ceab8ecac913a4136cc4c70e0067b4e2f'), 'blockNumber': 5494929, 'contractAddress': None, 'cumulativeGasUsed': 149586, 'from': '0x4015714a5fe93b04d96ac6d188da480fb4c4d07f', 'gasUsed': 43662, 'logs': [], 'logsBloom': HexBytes('0x00000000000000000000000000000000000000000000000000000000000000000000000000000000000000000000000000000000000000000000000000000000000000000000000000000000000000000000000000000000000000000000000000000000000000000000000000000000000000000000000000000000000000000000000000000000000000000000000000000000000000000000000000000000000000000000000000000000000000000000000000000000000000000000000000000000000000000000000000000000000000000000000000000000000000000000000000000000000000000000000000000000000000000000000000000000'), 'status': 1, 'to': '0x08192e69c5d614600659fe6be2910a8de68739bf', 'transactionHash': HexBytes('0x40b59cb0f8c593362a2ce6c0b7690ac404f858ce662448ee20103cf088090ecf'), 'transactionIndex': 3})\n"
     ]
    }
   ],
   "source": [
    "#give right to vote\n",
    "import time\n",
    "from web3 import Web3, HTTPProvider\n",
    "import contract_abi\n",
    "\n",
    "\n",
    "contract_address     = '0x08192e69c5d614600659fe6be2910a8de68739bf'\n",
    "\n",
    "wallet_private_key   = '0e4af526cee9a84d747323ca36fb65008586d0796319b9e80e9b8c2e79ced654'\n",
    "wallet_address       = '0x4015714a5Fe93b04D96ac6d188DA480fB4c4d07F'\n",
    "\n",
    "wallet_private_key_2 = '7790df5c6829609f856bbeb613ce9aa98e09dcb4fdaa904c2d65bd49e2307a97'\n",
    "wallet_address_2 = '0x5a50A3Be5C0a5D5AF0aC081062638146b865723e'\n",
    "\n",
    "wallet_private_key_3 = '387ab328d94c644a141ebbfe85090482141ecc4b5ad8fe8db28000c773abb0b8'\n",
    "wallet_address_3 = '0xCf3EeB2AB99c7d31ec4ce74316D1F2ba39DF3097'\n",
    "\n",
    "\n",
    "\n",
    "\n",
    "w3 = Web3(HTTPProvider('https://ropsten.infura.io/v3/244cf64efce342bdbf2b65cd2771d730'))\n",
    "\n",
    "w3.eth.enable_unaudited_features()\n",
    "contract_address = w3.toChecksumAddress(contract_address)\n",
    "wallet_address = w3.toChecksumAddress(wallet_address)\n",
    "\n",
    "contract = w3.eth.contract(address = contract_address, abi = contract_abi.abi)\n",
    "\n",
    "def check_winningProposal():\n",
    "    return contract.functions.winningProposal().call()\n",
    "\n",
    "def giveRightToVote(address):\n",
    "\n",
    "    nonce = w3.eth.getTransactionCount(wallet_address)\n",
    "\n",
    "    txn_dict = contract.functions.giveRightToVote(address).buildTransaction({\n",
    "        'chainId': 3,\n",
    "        'gas': 140000,\n",
    "        'gasPrice': w3.toWei('40', 'gwei'),\n",
    "        'nonce': nonce,\n",
    "    })\n",
    "\n",
    "    signed_txn = w3.eth.account.signTransaction(txn_dict, private_key=wallet_private_key)\n",
    "\n",
    "    result = w3.eth.sendRawTransaction(signed_txn.rawTransaction)\n",
    "\n",
    "    tx_receipt = w3.eth.getTransactionReceipt(result)\n",
    "\n",
    "    count = 0\n",
    "    while tx_receipt is None and (count < 30):\n",
    "\n",
    "        time.sleep(10)\n",
    "\n",
    "        tx_receipt = w3.eth.getTransactionReceipt(result)\n",
    "\n",
    "        print(tx_receipt)\n",
    "\n",
    "\n",
    "    if tx_receipt is None:\n",
    "        return {'status': 'failed', 'error': 'timeout'}\n",
    "    return {'status': 'added', 'tx_receipt': tx_receipt}\n",
    "\n",
    "    \n",
    "if __name__ == \"__main__\":\n",
    "    #giveRightToVote(wallet_address_2)\n",
    "    giveRightToVote(wallet_address_3)\n",
    "\n"
   ]
  },
  {
   "cell_type": "code",
   "execution_count": 6,
   "metadata": {},
   "outputs": [
    {
     "name": "stderr",
     "output_type": "stream",
     "text": [
      "c:\\users\\administrator\\appdata\\local\\programs\\python\\python37-32\\lib\\site-packages\\ipykernel_launcher.py:21: DeprecationWarning: enable_unaudited_features is deprecated in favor of doing nothing at all\n"
     ]
    },
    {
     "name": "stdout",
     "output_type": "stream",
     "text": [
      "None\n",
      "AttributeDict({'blockHash': HexBytes('0x6df55acb33e7100555ba332c5e17f76be447f429202822256aabb15844f5ebe8'), 'blockNumber': 5495121, 'contractAddress': None, 'cumulativeGasUsed': 93955, 'from': '0x5a50a3be5c0a5d5af0ac081062638146b865723e', 'gasUsed': 55130, 'logs': [], 'logsBloom': HexBytes('0x00000000000000000000000000000000000000000000000000000000000000000000000000000000000000000000000000000000000000000000000000000000000000000000000000000000000000000000000000000000000000000000000000000000000000000000000000000000000000000000000000000000000000000000000000000000000000000000000000000000000000000000000000000000000000000000000000000000000000000000000000000000000000000000000000000000000000000000000000000000000000000000000000000000000000000000000000000000000000000000000000000000000000000000000000000000'), 'status': 1, 'to': '0x08192e69c5d614600659fe6be2910a8de68739bf', 'transactionHash': HexBytes('0x893a7608cd773c415170530b938b965018106073b0c1d3e61ec8c1560992b356'), 'transactionIndex': 1})\n"
     ]
    }
   ],
   "source": [
    "#account hchen2 delegated to hchen3\n",
    "\n",
    "import time\n",
    "from web3 import Web3, HTTPProvider\n",
    "import contract_abi\n",
    "\n",
    "\n",
    "contract_address     = '0x08192e69c5d614600659fe6be2910a8de68739bf'\n",
    "\n",
    "wallet_private_key   = '0e4af526cee9a84d747323ca36fb65008586d0796319b9e80e9b8c2e79ced654'\n",
    "wallet_address       = '0x4015714a5Fe93b04D96ac6d188DA480fB4c4d07F'\n",
    "\n",
    "wallet_private_key_2 = '7790df5c6829609f856bbeb613ce9aa98e09dcb4fdaa904c2d65bd49e2307a97'\n",
    "wallet_address_2 = '0x5a50A3Be5C0a5D5AF0aC081062638146b865723e'\n",
    "\n",
    "wallet_private_key_3 = '387ab328d94c644a141ebbfe85090482141ecc4b5ad8fe8db28000c773abb0b8'\n",
    "wallet_address_3 = '0xCf3EeB2AB99c7d31ec4ce74316D1F2ba39DF3097'\n",
    "\n",
    "w3 = Web3(HTTPProvider('https://ropsten.infura.io/v3/244cf64efce342bdbf2b65cd2771d730'))\n",
    "\n",
    "w3.eth.enable_unaudited_features()\n",
    "contract_address = w3.toChecksumAddress(contract_address)\n",
    "wallet_address = w3.toChecksumAddress(wallet_address)\n",
    "\n",
    "contract = w3.eth.contract(address = contract_address, abi = contract_abi.abi)\n",
    "\n",
    "\n",
    "def delegate(from_wallet_addr,from_private_key, to_wallet_addr):\n",
    "\n",
    "    nonce = w3.eth.getTransactionCount(from_wallet_addr)\n",
    "    txn_dict = contract.functions.delegate(to_wallet_addr).buildTransaction({\n",
    "        'chainId': 3,\n",
    "        'gas': 100000,\n",
    "        'gasPrice': w3.toWei('40', 'gwei'),\n",
    "        'nonce': nonce,\n",
    "    })\n",
    "\n",
    "    signed_txn = w3.eth.account.signTransaction(txn_dict, private_key=from_private_key)\n",
    "\n",
    "    result = w3.eth.sendRawTransaction(signed_txn.rawTransaction)\n",
    "\n",
    "    tx_receipt = w3.eth.getTransactionReceipt(result)\n",
    "\n",
    "    count = 0\n",
    "    while tx_receipt is None and (count < 30):\n",
    "\n",
    "        time.sleep(10)\n",
    "\n",
    "        tx_receipt = w3.eth.getTransactionReceipt(result)\n",
    "\n",
    "        print(tx_receipt)\n",
    "\n",
    "\n",
    "    if tx_receipt is None:\n",
    "        return {'status': 'failed', 'error': 'timeout'}\n",
    "    return {'status': 'added', 'tx_receipt': tx_receipt}\n",
    "\n",
    "    \n",
    "if __name__ == \"__main__\":\n",
    "    delegate(wallet_address_2,wallet_private_key_2,wallet_address_3)\n",
    "\n"
   ]
  },
  {
   "cell_type": "code",
   "execution_count": 11,
   "metadata": {},
   "outputs": [
    {
     "name": "stderr",
     "output_type": "stream",
     "text": [
      "c:\\users\\administrator\\appdata\\local\\programs\\python\\python37-32\\lib\\site-packages\\ipykernel_launcher.py:21: DeprecationWarning: enable_unaudited_features is deprecated in favor of doing nothing at all\n"
     ]
    },
    {
     "name": "stdout",
     "output_type": "stream",
     "text": [
      "None\n",
      "AttributeDict({'blockHash': HexBytes('0x4c2b90fc7bb9718a114d61b225102efd64abe5f8b87e018df8ba2dfbb1f578f2'), 'blockNumber': 5495408, 'contractAddress': None, 'cumulativeGasUsed': 22119, 'from': '0x4015714a5fe93b04d96ac6d188da480fb4c4d07f', 'gasUsed': 22119, 'logs': [], 'logsBloom': HexBytes('0x00000000000000000000000000000000000000000000000000000000000000000000000000000000000000000000000000000000000000000000000000000000000000000000000000000000000000000000000000000000000000000000000000000000000000000000000000000000000000000000000000000000000000000000000000000000000000000000000000000000000000000000000000000000000000000000000000000000000000000000000000000000000000000000000000000000000000000000000000000000000000000000000000000000000000000000000000000000000000000000000000000000000000000000000000000000'), 'status': 1, 'to': '0x08192e69c5d614600659fe6be2910a8de68739bf', 'transactionHash': HexBytes('0x58ee8364bdc99179168fa0ae6d35fbafee0320bcec02ddf9413b3710ba8e09a5'), 'transactionIndex': 0})\n",
      "None\n",
      "AttributeDict({'blockHash': HexBytes('0xfc850a6ae09bd26459eae1989b0cd1c262784afa8c72a0e21a9b7ccb5959b77e'), 'blockNumber': 5495410, 'contractAddress': None, 'cumulativeGasUsed': 68606, 'from': '0xcf3eeb2ab99c7d31ec4ce74316d1f2ba39df3097', 'gasUsed': 68606, 'logs': [], 'logsBloom': HexBytes('0x00000000000000000000000000000000000000000000000000000000000000000000000000000000000000000000000000000000000000000000000000000000000000000000000000000000000000000000000000000000000000000000000000000000000000000000000000000000000000000000000000000000000000000000000000000000000000000000000000000000000000000000000000000000000000000000000000000000000000000000000000000000000000000000000000000000000000000000000000000000000000000000000000000000000000000000000000000000000000000000000000000000000000000000000000000000'), 'status': 1, 'to': '0x08192e69c5d614600659fe6be2910a8de68739bf', 'transactionHash': HexBytes('0x12d269d6bc0d8b98771a7f599f0c460a1b2543fe1174fbd023b6f72b6902f75d'), 'transactionIndex': 0})\n"
     ]
    }
   ],
   "source": [
    "#account hchen vote for proposal 1 and hchen3 vote for proposal 0\n",
    "\n",
    "import time\n",
    "from web3 import Web3, HTTPProvider\n",
    "import contract_abi\n",
    "\n",
    "\n",
    "contract_address     = '0x08192e69c5d614600659fe6be2910a8de68739bf'\n",
    "\n",
    "wallet_private_key   = '0e4af526cee9a84d747323ca36fb65008586d0796319b9e80e9b8c2e79ced654'\n",
    "wallet_address       = '0x4015714a5Fe93b04D96ac6d188DA480fB4c4d07F'\n",
    "\n",
    "wallet_private_key_2 = '7790df5c6829609f856bbeb613ce9aa98e09dcb4fdaa904c2d65bd49e2307a97'\n",
    "wallet_address_2 = '0x5a50A3Be5C0a5D5AF0aC081062638146b865723e'\n",
    "\n",
    "wallet_private_key_3 = '387ab328d94c644a141ebbfe85090482141ecc4b5ad8fe8db28000c773abb0b8'\n",
    "wallet_address_3 = '0xCf3EeB2AB99c7d31ec4ce74316D1F2ba39DF3097'\n",
    "\n",
    "w3 = Web3(HTTPProvider('https://ropsten.infura.io/v3/244cf64efce342bdbf2b65cd2771d730'))\n",
    "\n",
    "w3.eth.enable_unaudited_features()\n",
    "contract_address = w3.toChecksumAddress(contract_address)\n",
    "wallet_address = w3.toChecksumAddress(wallet_address)\n",
    "\n",
    "contract = w3.eth.contract(address = contract_address, abi = contract_abi.abi)\n",
    "\n",
    "\n",
    "def vote(from_wallet_addr,from_private_key, proposal):\n",
    "\n",
    "    nonce = w3.eth.getTransactionCount(from_wallet_addr)\n",
    "    txn_dict = contract.functions.vote(proposal).buildTransaction({\n",
    "        'chainId': 3,\n",
    "        'gas': 100000,\n",
    "        'gasPrice': w3.toWei('40', 'gwei'),\n",
    "        'nonce': nonce,\n",
    "    })\n",
    "\n",
    "    signed_txn = w3.eth.account.signTransaction(txn_dict, private_key=from_private_key)\n",
    "\n",
    "    result = w3.eth.sendRawTransaction(signed_txn.rawTransaction)\n",
    "\n",
    "    tx_receipt = w3.eth.getTransactionReceipt(result)\n",
    "\n",
    "    count = 0\n",
    "    while tx_receipt is None and (count < 30):\n",
    "\n",
    "        time.sleep(10)\n",
    "\n",
    "        tx_receipt = w3.eth.getTransactionReceipt(result)\n",
    "\n",
    "        print(tx_receipt)\n",
    "\n",
    "\n",
    "    if tx_receipt is None:\n",
    "        return {'status': 'failed', 'error': 'timeout'}\n",
    "    return {'status': 'added', 'tx_receipt': tx_receipt}\n",
    "\n",
    "    \n",
    "if __name__ == \"__main__\":\n",
    "    vote(wallet_address,wallet_private_key,1)\n",
    "    vote(wallet_address_3,wallet_private_key_3,0)"
   ]
  },
  {
   "cell_type": "code",
   "execution_count": 12,
   "metadata": {},
   "outputs": [
    {
     "name": "stderr",
     "output_type": "stream",
     "text": [
      "c:\\users\\administrator\\appdata\\local\\programs\\python\\python37-32\\lib\\site-packages\\ipykernel_launcher.py:23: DeprecationWarning: enable_unaudited_features is deprecated in favor of doing nothing at all\n"
     ]
    },
    {
     "name": "stdout",
     "output_type": "stream",
     "text": [
      "winning proposal is: 0\n"
     ]
    }
   ],
   "source": [
    "#check winning proposal\n",
    "import time\n",
    "from web3 import Web3, HTTPProvider\n",
    "import contract_abi\n",
    "\n",
    "\n",
    "contract_address     = '0x08192e69c5d614600659fe6be2910a8de68739bf'\n",
    "\n",
    "wallet_private_key   = '0e4af526cee9a84d747323ca36fb65008586d0796319b9e80e9b8c2e79ced654'\n",
    "wallet_address       = '0x4015714a5Fe93b04D96ac6d188DA480fB4c4d07F'\n",
    "\n",
    "wallet_private_key_2 = '7790df5c6829609f856bbeb613ce9aa98e09dcb4fdaa904c2d65bd49e2307a97'\n",
    "wallet_address_2 = '0x5a50A3Be5C0a5D5AF0aC081062638146b865723e'\n",
    "\n",
    "wallet_private_key_3 = '387ab328d94c644a141ebbfe85090482141ecc4b5ad8fe8db28000c773abb0b8'\n",
    "wallet_address_3 = '0xCf3EeB2AB99c7d31ec4ce74316D1F2ba39DF3097'\n",
    "\n",
    "\n",
    "\n",
    "\n",
    "w3 = Web3(HTTPProvider('https://ropsten.infura.io/v3/244cf64efce342bdbf2b65cd2771d730'))\n",
    "\n",
    "w3.eth.enable_unaudited_features()\n",
    "contract_address = w3.toChecksumAddress(contract_address)\n",
    "wallet_address = w3.toChecksumAddress(wallet_address)\n",
    "\n",
    "contract = w3.eth.contract(address = contract_address, abi = contract_abi.abi)\n",
    "\n",
    "def check_winningProposal():\n",
    "    return contract.functions.winningProposal().call()\n",
    "\n",
    "\n",
    "if __name__ == \"__main__\":\n",
    "    proposal = check_winningProposal()\n",
    "    print ('winning proposal is:',proposal)\n",
    "\n"
   ]
  },
  {
   "cell_type": "code",
   "execution_count": null,
   "metadata": {},
   "outputs": [],
   "source": []
  }
 ],
 "metadata": {
  "kernelspec": {
   "display_name": "Python 3",
   "language": "python",
   "name": "python3"
  },
  "language_info": {
   "codemirror_mode": {
    "name": "ipython",
    "version": 3
   },
   "file_extension": ".py",
   "mimetype": "text/x-python",
   "name": "python",
   "nbconvert_exporter": "python",
   "pygments_lexer": "ipython3",
   "version": "3.7.2"
  }
 },
 "nbformat": 4,
 "nbformat_minor": 2
}
